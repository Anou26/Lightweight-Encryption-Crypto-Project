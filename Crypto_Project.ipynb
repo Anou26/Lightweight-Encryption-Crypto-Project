{
 "cells": [
  {
   "cell_type": "code",
   "execution_count": 1,
   "id": "7446d7d8",
   "metadata": {
    "scrolled": true
   },
   "outputs": [
    {
     "name": "stdout",
     "output_type": "stream",
     "text": [
      "Requirement already satisfied: opencv-python in /Users/rohithmekala/anaconda3/lib/python3.11/site-packages (4.8.1.78)\r\n",
      "Requirement already satisfied: numpy>=1.21.2 in /Users/rohithmekala/anaconda3/lib/python3.11/site-packages (from opencv-python) (1.24.3)\r\n"
     ]
    }
   ],
   "source": [
    "!pip install opencv-python\n"
   ]
  },
  {
   "cell_type": "code",
   "execution_count": 2,
   "id": "119d6789",
   "metadata": {},
   "outputs": [
    {
     "name": "stdout",
     "output_type": "stream",
     "text": [
      "Requirement already satisfied: pycryptodome in /Users/rohithmekala/anaconda3/lib/python3.11/site-packages (3.19.0)\r\n"
     ]
    }
   ],
   "source": [
    "!pip install pycryptodome\n"
   ]
  },
  {
   "cell_type": "code",
   "execution_count": 17,
   "id": "05367678",
   "metadata": {},
   "outputs": [],
   "source": [
    "from cryptography.hazmat.primitives.ciphers import Cipher, algorithms, modes\n",
    "from cryptography.hazmat.backends import default_backend\n",
    "import cv2\n",
    "import numpy as np\n",
    "import os\n"
   ]
  },
  {
   "cell_type": "markdown",
   "id": "6610d270",
   "metadata": {},
   "source": [
    "# Lightweight Encryption Techniques"
   ]
  },
  {
   "cell_type": "markdown",
   "id": "59ce5304",
   "metadata": {},
   "source": [
    "# 1. ChaCha20"
   ]
  },
  {
   "cell_type": "code",
   "execution_count": null,
   "id": "cf709621",
   "metadata": {},
   "outputs": [],
   "source": [
    "import cv2\n",
    "import numpy as np\n",
    "from cryptography.hazmat.primitives.ciphers import Cipher, algorithms, modes\n",
    "from cryptography.hazmat.backends import default_backend\n",
    "import os\n",
    "\n",
    "# Function to encrypt an image using ChaCha20\n",
    "def encrypt_image_chacha20(image_path, key):\n",
    "    # Load the image\n",
    "    image = cv2.imread(image_path, cv2.IMREAD_UNCHANGED)\n",
    "    image_bytes = image.tobytes()\n",
    "\n",
    "    # Generate a random nonce\n",
    "    nonce = os.urandom(16)  # 128-bit nonce for ChaCha20\n",
    "\n",
    "    # Initialize the ChaCha20 cipher\n",
    "    algorithm = algorithms.ChaCha20(key, nonce)\n",
    "    cipher = Cipher(algorithm, mode=None, backend=default_backend())\n",
    "    encryptor = cipher.encryptor()\n",
    "\n",
    "    # Encrypt the image data\n",
    "    encrypted_data = encryptor.update(image_bytes) + encryptor.finalize()\n",
    "\n",
    "    # Return the encrypted data, nonce, and the original shape of the image\n",
    "    return nonce + encrypted_data, image.shape\n",
    "\n",
    "# Function to decrypt an image using ChaCha20\n",
    "def decrypt_image_chacha20(encrypted_data, key, shape):\n",
    "    # Extract nonce and encrypted message\n",
    "    nonce = encrypted_data[:16]\n",
    "    encrypted_message = encrypted_data[16:]\n",
    "\n",
    "    # Initialize the ChaCha20 cipher for decryption\n",
    "    algorithm = algorithms.ChaCha20(key, nonce)\n",
    "    cipher = Cipher(algorithm, mode=None, backend=default_backend())\n",
    "    decryptor = cipher.decryptor()\n",
    "\n",
    "    # Decrypt the image data\n",
    "    decrypted_data = decryptor.update(encrypted_message) + decryptor.finalize()\n",
    "\n",
    "    # Convert bytes back to image format\n",
    "    decrypted_image = np.frombuffer(decrypted_data, dtype=np.uint8).reshape(shape)\n",
    "    return decrypted_image\n",
    "\n",
    "# Generate a 256-bit (32 byte) random key for ChaCha20\n",
    "key = os.urandom(32)\n",
    "\n",
    "# Encrypt and Save the Image\n",
    "image_path = '/Users/rohithmekala/Desktop/lung.png'  # Replace with your image path\n",
    "encrypted_data, shape = encrypt_image_chacha20(image_path, key)\n",
    "\n",
    "# Save encrypted data to a file\n",
    "with open('encrypted_image_chacha20.bin', 'wb') as f:\n",
    "    f.write(encrypted_data)\n",
    "\n",
    "# Read the encrypted data and Decrypt the Image\n",
    "with open('encrypted_image_chacha20.bin', 'rb') as f:\n",
    "    encrypted_data = f.read()\n",
    "\n",
    "decrypted_image = decrypt_image_chacha20(encrypted_data, key, shape)\n",
    "\n",
    "# Convert to an image and display/save\n",
    "cv2.imshow('ChaCha20 Decrypted Image', decrypted_image)\n",
    "cv2.waitKey(0)\n",
    "cv2.destroyAllWindows()\n",
    "\n"
   ]
  },
  {
   "cell_type": "markdown",
   "id": "4661311b",
   "metadata": {},
   "source": [
    "# ChaCha20 encryption time"
   ]
  },
  {
   "cell_type": "code",
   "execution_count": 16,
   "id": "e802824f",
   "metadata": {},
   "outputs": [
    {
     "name": "stdout",
     "output_type": "stream",
     "text": [
      "ChaCha20 encryption time: 0.003320932388305664\n"
     ]
    }
   ],
   "source": [
    "import time\n",
    "import cv2\n",
    "from cryptography.hazmat.primitives.ciphers import Cipher, algorithms, modes\n",
    "from cryptography.hazmat.backends import default_backend\n",
    "\n",
    "# Function to read image and convert to byte data\n",
    "def get_image_data(image_path):\n",
    "    image = cv2.imread(image_path, cv2.IMREAD_UNCHANGED)\n",
    "    return image.tobytes()\n",
    "\n",
    "# Function to test encryption algorithm\n",
    "def test_algorithm(algorithm, data):\n",
    "    start_time = time.time()\n",
    "    cipher = Cipher(algorithm, mode=None, backend=default_backend())\n",
    "    encryptor = cipher.encryptor()\n",
    "    encrypted_data = encryptor.update(data) + encryptor.finalize()\n",
    "    end_time = time.time()\n",
    "    return end_time - start_time\n",
    "\n",
    "# Load image data\n",
    "image_path = '/Users/rohithmekala/Desktop/lung.png'  # Replace with your image path\n",
    "image_data = get_image_data(image_path)\n",
    "\n",
    "# Testing ChaCha20\n",
    "chacha20_time = test_algorithm(algorithms.ChaCha20(os.urandom(32), os.urandom(16)), image_data)\n",
    "\n",
    "# Repeat for other algorithms like AES, etc., and compare the times\n",
    "# ...\n",
    "\n",
    "print(f\"ChaCha20 encryption time: {chacha20_time}\")\n",
    "# Print times for other algorithms\n"
   ]
  },
  {
   "cell_type": "markdown",
   "id": "fb75c310",
   "metadata": {},
   "source": [
    "# ChaCha20 decryption time"
   ]
  },
  {
   "cell_type": "code",
   "execution_count": 13,
   "id": "0c018650",
   "metadata": {},
   "outputs": [
    {
     "name": "stdout",
     "output_type": "stream",
     "text": [
      "ChaCha20 decryption time: 0.0019571781158447266\n"
     ]
    }
   ],
   "source": [
    "import time\n",
    "import cv2\n",
    "from cryptography.hazmat.primitives.ciphers import Cipher, algorithms, modes\n",
    "from cryptography.hazmat.backends import default_backend\n",
    "import os\n",
    "\n",
    "# Function to read image and convert to byte data\n",
    "def get_image_data(image_path):\n",
    "    image = cv2.imread(image_path, cv2.IMREAD_UNCHANGED)\n",
    "    return image.tobytes()\n",
    "\n",
    "# Function to test decryption algorithm\n",
    "def test_decryption_algorithm(algorithm, encrypted_data):\n",
    "    start_time = time.time()\n",
    "    cipher = Cipher(algorithm, mode=None, backend=default_backend())\n",
    "    decryptor = cipher.decryptor()\n",
    "    decrypted_data = decryptor.update(encrypted_data) + decryptor.finalize()\n",
    "    end_time = time.time()\n",
    "    return end_time - start_time\n",
    "\n",
    "# Encrypt the image first\n",
    "image_path = '/Users/rohithmekala/Desktop/lung.png'  # Replace with your image path\n",
    "image_data = get_image_data(image_path)\n",
    "\n",
    "# Example using ChaCha20 for encryption\n",
    "key = os.urandom(32)  # 256-bit key for ChaCha20\n",
    "nonce = os.urandom(16)  # 128-bit nonce for ChaCha20\n",
    "algorithm = algorithms.ChaCha20(key, nonce)\n",
    "cipher = Cipher(algorithm, mode=None, backend=default_backend())\n",
    "encryptor = cipher.encryptor()\n",
    "encrypted_data = encryptor.update(image_data) + encryptor.finalize()\n",
    "\n",
    "# Testing ChaCha20 decryption\n",
    "chacha20_decryption_time = test_decryption_algorithm(algorithms.ChaCha20(key, nonce), encrypted_data)\n",
    "\n",
    "# Repeat for other algorithms like AES, etc., and compare the times\n",
    "# ...\n",
    "\n",
    "print(f\"ChaCha20 decryption time: {chacha20_decryption_time}\")\n",
    "# Print times for other algorithms\n"
   ]
  },
  {
   "cell_type": "markdown",
   "id": "fcf6ed04",
   "metadata": {},
   "source": [
    "# ChaCha20 entropy"
   ]
  },
  {
   "cell_type": "code",
   "execution_count": 3,
   "id": "2eef718f",
   "metadata": {},
   "outputs": [
    {
     "name": "stdout",
     "output_type": "stream",
     "text": [
      "Entropy of encrypted data (ChaCha20): 7.9999214141488455 bits/byte\n"
     ]
    }
   ],
   "source": [
    "import numpy as np\n",
    "from cryptography.hazmat.primitives.ciphers import Cipher, algorithms, modes\n",
    "from cryptography.hazmat.backends import default_backend\n",
    "import cv2\n",
    "import os\n",
    "\n",
    "# Function to calculate entropy\n",
    "def calculate_entropy(data):\n",
    "    # Calculate the frequency of each byte value\n",
    "    value_counts = np.bincount(np.frombuffer(data, dtype=np.uint8))\n",
    "\n",
    "    # Calculate the probability of each byte value\n",
    "    probabilities = value_counts / len(data)\n",
    "\n",
    "    # Calculate entropy using the formula: H(X) = -Σ p(x) * log2(p(x))\n",
    "    entropy = -np.sum(probabilities * np.log2(probabilities + np.finfo(float).eps))\n",
    "\n",
    "    return entropy\n",
    "\n",
    "# Function to encrypt image using ChaCha20\n",
    "def encrypt_image_chacha20(image_path, key):\n",
    "    # Load the image\n",
    "    image = cv2.imread(image_path, cv2.IMREAD_UNCHANGED)\n",
    "    image_bytes = image.tobytes()\n",
    "\n",
    "    # Generate a random nonce\n",
    "    nonce = os.urandom(16)  # 128-bit nonce for ChaCha20\n",
    "\n",
    "    # Initialize the ChaCha20 cipher\n",
    "    algorithm = algorithms.ChaCha20(key, nonce)\n",
    "    cipher = Cipher(algorithm, mode=None, backend=default_backend())\n",
    "    encryptor = cipher.encryptor()\n",
    "\n",
    "    # Encrypt the image data\n",
    "    encrypted_data = encryptor.update(image_bytes) + encryptor.finalize()\n",
    "\n",
    "    # Return the encrypted data, nonce, and the original shape of the image\n",
    "    return nonce + encrypted_data, image.shape\n",
    "\n",
    "# Generate a 256-bit (32 byte) random key for ChaCha20\n",
    "key = os.urandom(32)\n",
    "\n",
    "# Encrypt and Save the Image\n",
    "image_path = '/Users/rohithmekala/Desktop/lung.png'  # Replace with your image path\n",
    "encrypted_data, shape = encrypt_image_chacha20(image_path, key)\n",
    "\n",
    "# Save encrypted data to a file\n",
    "with open('encrypted_image_chacha20.bin', 'wb') as f:\n",
    "    f.write(encrypted_data)\n",
    "\n",
    "# Read the encrypted data\n",
    "with open('encrypted_image_chacha20.bin', 'rb') as f:\n",
    "    encrypted_data = f.read()\n",
    "\n",
    "# Calculate entropy of the encrypted data\n",
    "chacha20_entropy = calculate_entropy(encrypted_data)\n",
    "\n",
    "print(f\"Entropy of encrypted data (ChaCha20): {chacha20_entropy} bits/byte\")\n",
    "\n"
   ]
  },
  {
   "cell_type": "markdown",
   "id": "b810046c",
   "metadata": {},
   "source": [
    "# 2. Salsa20"
   ]
  },
  {
   "cell_type": "code",
   "execution_count": null,
   "id": "a58f1ad9",
   "metadata": {},
   "outputs": [],
   "source": [
    "from Crypto.Cipher import Salsa20\n",
    "import cv2\n",
    "import numpy as np\n",
    "import os\n",
    "import cv2  # Make sure OpenCV is installed\n",
    "\n",
    "\n",
    "def encrypt_image_salsa20(image_path, key):\n",
    "    # Load the image\n",
    "    image = cv2.imread(image_path, cv2.IMREAD_UNCHANGED)\n",
    "    image_bytes = image.tobytes()\n",
    "\n",
    "    # Encrypt the image\n",
    "    cipher = Salsa20.new(key=key)\n",
    "    encrypted_data = cipher.nonce + cipher.encrypt(image_bytes)\n",
    "\n",
    "    # Return the encrypted data and the original shape of the image\n",
    "    return encrypted_data, image.shape\n",
    "\n",
    "def decrypt_image_salsa20(encrypted_data, key):\n",
    "    # Extract nonce and encrypted message\n",
    "    nonce = encrypted_data[:8]\n",
    "    encrypted_message = encrypted_data[8:]\n",
    "\n",
    "    # Decrypt the image\n",
    "    cipher = Salsa20.new(key=key, nonce=nonce)\n",
    "    decrypted_data = cipher.decrypt(encrypted_message)\n",
    "\n",
    "    return decrypted_data\n",
    "\n",
    "# Generate a 256-bit (32 byte) random key for Salsa20\n",
    "key = os.urandom(32)\n",
    "\n",
    "# Encrypt and Save the Image\n",
    "image_path = '/Users/rohithmekala/Desktop/lung.png'  # Replace with your image path\n",
    "encrypted_data, shape = encrypt_image_salsa20(image_path, key)\n",
    "\n",
    "# Save encrypted data to a file\n",
    "with open('encrypted_image.bin', 'wb') as f:\n",
    "    f.write(encrypted_data)\n",
    "\n",
    "# Read the encrypted data and Decrypt the Image\n",
    "with open('encrypted_image.bin', 'rb') as f:\n",
    "    encrypted_data = f.read()\n",
    "\n",
    "decrypted_data = decrypt_image_salsa20(encrypted_data, key)\n",
    "decrypted_image = np.frombuffer(decrypted_data, dtype=np.uint8).reshape(shape)\n",
    "\n",
    "# Convert to an image and display/save\n",
    "cv2.imshow('Salsa20 Decrypted Image',decrypted_image)\n",
    "cv2.waitKey(0)\n",
    "cv2.destroyAllWindows()\n"
   ]
  },
  {
   "cell_type": "markdown",
   "id": "4692f279",
   "metadata": {},
   "source": [
    "# Salsa20 encryption time"
   ]
  },
  {
   "cell_type": "code",
   "execution_count": 9,
   "id": "96570514",
   "metadata": {},
   "outputs": [
    {
     "name": "stdout",
     "output_type": "stream",
     "text": [
      "Salsa20 encryption time: 0.009616851806640625\n"
     ]
    }
   ],
   "source": [
    "import time\n",
    "import cv2\n",
    "from Crypto.Cipher import Salsa20\n",
    "import os\n",
    "\n",
    "# Function to read image and convert to byte data\n",
    "def get_image_data(image_path):\n",
    "    image = cv2.imread(image_path, cv2.IMREAD_UNCHANGED)\n",
    "    return image.tobytes()\n",
    "\n",
    "# Function to test encryption algorithm\n",
    "def test_algorithm(key, nonce, data):\n",
    "    cipher = Salsa20.new(key=key, nonce=nonce)\n",
    "    start_time = time.time()\n",
    "    encrypted_data = cipher.encrypt(data)\n",
    "    end_time = time.time()\n",
    "    return end_time - start_time\n",
    "\n",
    "# Load image data\n",
    "image_path = '/Users/rohithmekala/Desktop/lung.png'  # Replace with your image path\n",
    "image_data = get_image_data(image_path)\n",
    "\n",
    "# Generate a random key and nonce\n",
    "key = os.urandom(32)  # 256-bit key\n",
    "nonce = os.urandom(8)  # 64-bit nonce\n",
    "\n",
    "# Testing Salsa20\n",
    "salsa20_time = test_algorithm(key, nonce, image_data)\n",
    "\n",
    "# Repeat for other algorithms like AES, etc., and compare the times\n",
    "# ...\n",
    "\n",
    "print(f\"Salsa20 encryption time: {salsa20_time}\")\n",
    "# Print times for other algorithms\n"
   ]
  },
  {
   "cell_type": "markdown",
   "id": "c33535ce",
   "metadata": {},
   "source": [
    "# Salsa20 decryption time"
   ]
  },
  {
   "cell_type": "code",
   "execution_count": 15,
   "id": "036ff090",
   "metadata": {},
   "outputs": [
    {
     "name": "stdout",
     "output_type": "stream",
     "text": [
      "Salsa20 decryption time: 0.010113239288330078\n"
     ]
    }
   ],
   "source": [
    "import time\n",
    "import cv2\n",
    "from Crypto.Cipher import Salsa20\n",
    "import os\n",
    "\n",
    "# Function to read image and convert to byte data\n",
    "def get_image_data(image_path):\n",
    "    image = cv2.imread(image_path, cv2.IMREAD_UNCHANGED)\n",
    "    return image.tobytes()\n",
    "\n",
    "# Function to test decryption algorithm\n",
    "def test_decryption_algorithm(key, nonce, encrypted_data):\n",
    "    cipher = Salsa20.new(key=key, nonce=nonce)\n",
    "    start_time = time.time()\n",
    "    decrypted_data = cipher.decrypt(encrypted_data)\n",
    "    end_time = time.time()\n",
    "    return end_time - start_time\n",
    "\n",
    "# Encrypt the image first\n",
    "image_path = '/Users/rohithmekala/Desktop/lung.png'  # Replace with your image path\n",
    "image_data = get_image_data(image_path)\n",
    "\n",
    "# Generate a random key and nonce for Salsa20\n",
    "key = os.urandom(32)  # 256-bit key for Salsa20\n",
    "nonce = os.urandom(8)  # 64-bit nonce for Salsa20\n",
    "\n",
    "# Encrypt the image using Salsa20\n",
    "cipher = Salsa20.new(key=key, nonce=nonce)\n",
    "encrypted_data = cipher.encrypt(image_data)\n",
    "\n",
    "# Testing Salsa20 decryption\n",
    "salsa20_decryption_time = test_decryption_algorithm(key, nonce, encrypted_data)\n",
    "\n",
    "# Repeat for other algorithms like AES, etc., and compare the times\n",
    "# ...\n",
    "\n",
    "print(f\"Salsa20 decryption time: {salsa20_decryption_time}\")\n",
    "# Print times for other algorithms\n"
   ]
  },
  {
   "cell_type": "markdown",
   "id": "c8e4c1c3",
   "metadata": {},
   "source": [
    "# Salsa20 Entropy"
   ]
  },
  {
   "cell_type": "code",
   "execution_count": 6,
   "id": "1fa5c897",
   "metadata": {},
   "outputs": [
    {
     "name": "stdout",
     "output_type": "stream",
     "text": [
      "Entropy of encrypted data (Salsa20): 7.999919390858918 bits/byte\n"
     ]
    }
   ],
   "source": [
    "import numpy as np\n",
    "from Crypto.Cipher import Salsa20\n",
    "import cv2\n",
    "import os\n",
    "\n",
    "# Function to calculate entropy\n",
    "def calculate_entropy(data):\n",
    "    # Calculate the frequency of each byte value\n",
    "    value_counts = np.bincount(np.frombuffer(data, dtype=np.uint8))\n",
    "\n",
    "    # Calculate the probability of each byte value\n",
    "    probabilities = value_counts / len(data)\n",
    "\n",
    "    # Calculate entropy using the formula: H(X) = -Σ p(x) * log2(p(x))\n",
    "    entropy = -np.sum(probabilities * np.log2(probabilities + np.finfo(float).eps))\n",
    "\n",
    "    return entropy\n",
    "\n",
    "# Function to encrypt image using Salsa20\n",
    "def encrypt_image_salsa20(image_path, key):\n",
    "    # Load the image\n",
    "    image = cv2.imread(image_path, cv2.IMREAD_UNCHANGED)\n",
    "    image_bytes = image.tobytes()\n",
    "\n",
    "    # Encrypt the image\n",
    "    cipher = Salsa20.new(key=key)\n",
    "    encrypted_data = cipher.nonce + cipher.encrypt(image_bytes)\n",
    "\n",
    "    # Return the encrypted data and the original shape of the image\n",
    "    return encrypted_data, image.shape\n",
    "\n",
    "# Generate a 256-bit (32 byte) random key for Salsa20\n",
    "key = os.urandom(32)\n",
    "\n",
    "# Encrypt and Save the Image\n",
    "image_path = '/Users/rohithmekala/Desktop/lung.png'  # Replace with your image path\n",
    "encrypted_data, shape = encrypt_image_salsa20(image_path, key)\n",
    "\n",
    "# Save encrypted data to a file\n",
    "with open('encrypted_image.bin', 'wb') as f:\n",
    "    f.write(encrypted_data)\n",
    "\n",
    "# Read the encrypted data and Decrypt the Image\n",
    "with open('encrypted_image.bin', 'rb') as f:\n",
    "    encrypted_data = f.read()\n",
    "\n",
    "# Calculate entropy of the encrypted data\n",
    "salsa20_entropy = calculate_entropy(encrypted_data)\n",
    "\n",
    "print(f\"Entropy of encrypted data (Salsa20): {salsa20_entropy} bits/byte\")\n"
   ]
  },
  {
   "cell_type": "markdown",
   "id": "818b2254",
   "metadata": {},
   "source": [
    "# 3. RC4"
   ]
  },
  {
   "cell_type": "code",
   "execution_count": null,
   "id": "5bb19f40",
   "metadata": {},
   "outputs": [],
   "source": [
    "from Crypto.Cipher import ARC4\n",
    "import cv2\n",
    "import numpy as np\n",
    "import os\n",
    "\n",
    "def encrypt_image_rc4(image_path, key):\n",
    "    # Load the image\n",
    "    image = cv2.imread(image_path, cv2.IMREAD_UNCHANGED)\n",
    "    image_bytes = image.tobytes()\n",
    "\n",
    "    # Initialize the RC4 cipher\n",
    "    cipher = ARC4.new(key)\n",
    "    \n",
    "    # Encrypt the image\n",
    "    encrypted_data = cipher.encrypt(image_bytes)\n",
    "\n",
    "    # Return the encrypted data and the original shape of the image\n",
    "    return encrypted_data, image.shape\n",
    "\n",
    "def decrypt_image_rc4(encrypted_data, key, shape):\n",
    "    # Initialize the RC4 cipher for decryption\n",
    "    cipher = ARC4.new(key)\n",
    "\n",
    "    # Decrypt the image\n",
    "    decrypted_data = cipher.decrypt(encrypted_data)\n",
    "\n",
    "    return np.frombuffer(decrypted_data, dtype=np.uint8).reshape(shape)\n",
    "\n",
    "# Generate a 128-bit (16 byte) random key for RC4\n",
    "key = os.urandom(16)\n",
    "\n",
    "# Encrypt and Save the Image\n",
    "image_path = '/Users/rohithmekala/Desktop/lung.png'  # Replace with your image path\n",
    "encrypted_data, shape = encrypt_image_rc4(image_path, key)\n",
    "\n",
    "# Save encrypted data to a file\n",
    "with open('encrypted_image_rc4.bin', 'wb') as f:\n",
    "    f.write(encrypted_data)\n",
    "\n",
    "# Read the encrypted data and Decrypt the Image\n",
    "with open('encrypted_image_rc4.bin', 'rb') as f:\n",
    "    encrypted_data = f.read()\n",
    "\n",
    "decrypted_image = decrypt_image_rc4(encrypted_data, key, shape)\n",
    "\n",
    "# Convert to an image and display/save\n",
    "cv2.imshow('RC4 Decrypted Image', decrypted_image)\n",
    "cv2.waitKey(0)\n",
    "cv2.destroyAllWindows()\n"
   ]
  },
  {
   "cell_type": "markdown",
   "id": "c2004d46",
   "metadata": {},
   "source": [
    "# RC4 encryption time"
   ]
  },
  {
   "cell_type": "code",
   "execution_count": 11,
   "id": "d82d1101",
   "metadata": {},
   "outputs": [
    {
     "name": "stdout",
     "output_type": "stream",
     "text": [
      "RC4 encryption time: 0.004625797271728516\n"
     ]
    }
   ],
   "source": [
    "import time\n",
    "import cv2\n",
    "from Crypto.Cipher import ARC4\n",
    "import os\n",
    "\n",
    "# Function to read image and convert to byte data\n",
    "def get_image_data(image_path):\n",
    "    image = cv2.imread(image_path, cv2.IMREAD_UNCHANGED)\n",
    "    return image.tobytes()\n",
    "\n",
    "# Function to test encryption algorithm\n",
    "def test_algorithm(key, data):\n",
    "    cipher = ARC4.new(key)\n",
    "    start_time = time.time()\n",
    "    encrypted_data = cipher.encrypt(data)\n",
    "    end_time = time.time()\n",
    "    return end_time - start_time\n",
    "\n",
    "# Load image data\n",
    "image_path = '/Users/rohithmekala/Desktop/lung.png'  # Replace with your image path\n",
    "image_data = get_image_data(image_path)\n",
    "\n",
    "# Generate a random key for RC4 (RC4 doesn't use nonces)\n",
    "key = os.urandom(16)  # 128-bit key for RC4\n",
    "\n",
    "# Testing RC4 encryption\n",
    "rc4_time = test_algorithm(key, image_data)\n",
    "\n",
    "# Repeat for other algorithms like AES, etc., and compare the times\n",
    "# ...\n",
    "\n",
    "print(f\"RC4 encryption time: {rc4_time}\")\n",
    "# Print times for other algorithms\n"
   ]
  },
  {
   "cell_type": "markdown",
   "id": "b6c2c9c0",
   "metadata": {},
   "source": [
    "# RC4 decryption time"
   ]
  },
  {
   "cell_type": "code",
   "execution_count": 14,
   "id": "fc197282",
   "metadata": {},
   "outputs": [
    {
     "name": "stdout",
     "output_type": "stream",
     "text": [
      "RC4 decryption time: 0.0029261112213134766\n"
     ]
    }
   ],
   "source": [
    "import time\n",
    "import cv2\n",
    "from Crypto.Cipher import ARC4\n",
    "import os\n",
    "\n",
    "# Function to read image and convert to byte data\n",
    "def get_image_data(image_path):\n",
    "    image = cv2.imread(image_path, cv2.IMREAD_UNCHANGED)\n",
    "    return image.tobytes()\n",
    "\n",
    "# Function to test decryption algorithm\n",
    "def test_decryption_algorithm(key, encrypted_data):\n",
    "    cipher = ARC4.new(key)\n",
    "    start_time = time.time()\n",
    "    decrypted_data = cipher.decrypt(encrypted_data)\n",
    "    end_time = time.time()\n",
    "    return end_time - start_time\n",
    "\n",
    "# Load image data\n",
    "image_path = '/Users/rohithmekala/Desktop/lung.png'  # Replace with your image path\n",
    "image_data = get_image_data(image_path)\n",
    "\n",
    "# Generate a random key for RC4 (RC4 doesn't use nonces)\n",
    "key = os.urandom(16)  # 128-bit key for RC4\n",
    "\n",
    "# Encrypt the image using RC4\n",
    "cipher = ARC4.new(key)\n",
    "encrypted_data = cipher.encrypt(image_data)\n",
    "\n",
    "# Testing RC4 decryption\n",
    "rc4_decryption_time = test_decryption_algorithm(key, encrypted_data)\n",
    "\n",
    "# Repeat for other algorithms like AES, etc., and compare the times\n",
    "# ...\n",
    "\n",
    "print(f\"RC4 decryption time: {rc4_decryption_time}\")\n",
    "# Print times for other algorithms\n"
   ]
  },
  {
   "cell_type": "markdown",
   "id": "6605b061",
   "metadata": {},
   "source": [
    "# RC4 Entropy"
   ]
  },
  {
   "cell_type": "code",
   "execution_count": 1,
   "id": "b6f8a7c4",
   "metadata": {},
   "outputs": [
    {
     "name": "stdout",
     "output_type": "stream",
     "text": [
      "Entropy of encrypted data (RC4): 7.999936827677628 bits/byte\n"
     ]
    }
   ],
   "source": [
    "import numpy as np\n",
    "from Crypto.Cipher import ARC4\n",
    "import cv2\n",
    "\n",
    "# Load the encrypted data (replace 'encrypted_image_rc4.bin' with your file)\n",
    "with open('encrypted_image_rc4.bin', 'rb') as f:\n",
    "    encrypted_data = f.read()\n",
    "\n",
    "# Function to calculate entropy\n",
    "def calculate_entropy(data):\n",
    "    # Calculate the frequency of each byte value\n",
    "    value_counts = np.bincount(np.frombuffer(data, dtype=np.uint8))\n",
    "\n",
    "    # Calculate the probability of each byte value\n",
    "    probabilities = value_counts / len(data)\n",
    "\n",
    "    # Calculate entropy using the formula: H(X) = -Σ p(x) * log2(p(x))\n",
    "    entropy = -np.sum(probabilities * np.log2(probabilities + np.finfo(float).eps))\n",
    "\n",
    "    return entropy\n",
    "\n",
    "# Calculate entropy of the encrypted data\n",
    "rc4_entropy = calculate_entropy(encrypted_data)\n",
    "\n",
    "print(f\"Entropy of encrypted data (RC4): {rc4_entropy} bits/byte\")\n"
   ]
  },
  {
   "cell_type": "markdown",
   "id": "9a5e4d78",
   "metadata": {},
   "source": [
    "# Analysis of Lightweight Cryptography Techniques"
   ]
  },
  {
   "cell_type": "markdown",
   "id": "8640d272",
   "metadata": {},
   "source": [
    "# Comparison of Entropys"
   ]
  },
  {
   "cell_type": "code",
   "execution_count": 7,
   "id": "c60489b4",
   "metadata": {
    "scrolled": false
   },
   "outputs": [
    {
     "data": {
      "image/png": "[encoded data removed]",
      "text/plain": [
       "<Figure size 640x480 with 1 Axes>"
      ]
     },
     "metadata": {},
     "output_type": "display_data"
    }
   ],
   "source": [
    "import matplotlib.pyplot as plt\n",
    "\n",
    "# Define the values and labels\n",
    "values = [chacha20_entropy, salsa20_entropy, rc4_entropy]  # Replace these values with your data\n",
    "labels = ['chacha20', 'salsa20', 'rc4']\n",
    "\n",
    "# Create a bar graph\n",
    "plt.bar(labels, values, color=['red', 'green', 'blue'])\n",
    "\n",
    "# Add labels and a title\n",
    "plt.xlabel('Values')\n",
    "plt.ylabel('Counts')\n",
    "plt.title('Comparison of Entropys of Lightweight Cryptography Techniques')\n",
    "\n",
    "# Display the graph\n",
    "plt.show()\n"
   ]
  },
  {
   "cell_type": "markdown",
   "id": "7ce7bcd5",
   "metadata": {},
   "source": [
    "# Comparison of Encryption Times"
   ]
  },
  {
   "cell_type": "code",
   "execution_count": 12,
   "id": "cf929576",
   "metadata": {},
   "outputs": [
    {
     "data": {
      "image/png": "[encoded data removed]",
      "text/plain": [
       "<Figure size 640x480 with 1 Axes>"
      ]
     },
     "metadata": {},
     "output_type": "display_data"
    }
   ],
   "source": [
    "# Define the values and labels\n",
    "values = [chacha20_time, salsa20_time, rc4_time]  # Replace these values with your data\n",
    "labels = ['chacha20', 'salsa20', 'rc4']\n",
    "\n",
    "# Create a bar graph\n",
    "plt.bar(labels, values, color=['red', 'green', 'blue'])\n",
    "\n",
    "# Add labels and a title\n",
    "plt.xlabel('Values')\n",
    "plt.ylabel('Counts')\n",
    "plt.title('Comparison of Encryption Times of Lightweight Cryptography Techniques')\n",
    "\n",
    "# Display the graph\n",
    "plt.show()"
   ]
  },
  {
   "cell_type": "markdown",
   "id": "a4bede14",
   "metadata": {},
   "source": [
    "# Comparison of Decryption Times"
   ]
  },
  {
   "cell_type": "code",
   "execution_count": 18,
   "id": "01b98585",
   "metadata": {
    "scrolled": false
   },
   "outputs": [
    {
     "data": {
      "image/png": "[encoded data removed]",
      "text/plain": [
       "<Figure size 640x480 with 1 Axes>"
      ]
     },
     "metadata": {},
     "output_type": "display_data"
    }
   ],
   "source": [
    "import matplotlib.pyplot as plt\n",
    "\n",
    "# Define the values and labels\n",
    "values = [chacha20_decryption_time, salsa20_decryption_time, rc4_decryption_time]  # Replace these values with your data\n",
    "labels = ['chacha20', 'salsa20', 'rc4']\n",
    "\n",
    "# Create a bar graph\n",
    "plt.bar(labels, values, color=['red', 'green', 'blue'])\n",
    "\n",
    "# Add labels and a title\n",
    "plt.xlabel('Values')\n",
    "plt.ylabel('Counts')\n",
    "plt.title('Comparison of Decryption Times of Lightweight Cryptography Techniques')\n",
    "\n",
    "# Display the graph\n",
    "plt.show()\n"
   ]
  },
  {
   "cell_type": "markdown",
   "id": "df924d8a",
   "metadata": {},
   "source": [
    "# Non Lightweight Cryptography techniques"
   ]
  },
  {
   "cell_type": "markdown",
   "id": "cd109c98",
   "metadata": {},
   "source": [
    "# 1. Hybrid encryption (RSA + AES)"
   ]
  },
  {
   "cell_type": "code",
   "execution_count": null,
   "id": "cd56849a",
   "metadata": {},
   "outputs": [],
   "source": [
    "from cryptography.hazmat.primitives.asymmetric import rsa\n",
    "from cryptography.hazmat.primitives.asymmetric import padding\n",
    "from cryptography.hazmat.primitives import serialization\n",
    "from cryptography.hazmat.backends import default_backend\n",
    "from cryptography.hazmat.primitives import hashes\n",
    "from cryptography.hazmat.primitives.kdf.pbkdf2 import PBKDF2HMAC\n",
    "from cryptography.hazmat.primitives import hashes\n",
    "from cryptography.hazmat.primitives.kdf.pbkdf2 import PBKDF2HMAC\n",
    "from cryptography.hazmat.primitives.kdf.pbkdf2 import PBKDF2HMAC\n",
    "from cryptography.hazmat.primitives.ciphers import Cipher, algorithms, modes\n",
    "from cryptography.hazmat.backends import default_backend\n",
    "import cv2\n",
    "import numpy as np\n",
    "import os\n",
    "\n",
    "def generate_rsa_key_pair():\n",
    "    # Generate RSA key pair (public and private keys)\n",
    "    private_key = rsa.generate_private_key(\n",
    "        public_exponent=65537,\n",
    "        key_size=2048,\n",
    "        backend=default_backend()\n",
    "    )\n",
    "    public_key = private_key.public_key()\n",
    "    return private_key, public_key\n",
    "\n",
    "def encrypt_image_aes(image_path, key):\n",
    "    # Load the image\n",
    "    image = cv2.imread(image_path, cv2.IMREAD_UNCHANGED)\n",
    "    image_bytes = image.tobytes()\n",
    "\n",
    "    # Initialize the AES cipher\n",
    "    cipher = Cipher(algorithms.AES(key), modes.ECB(), backend=default_backend())\n",
    "    encryptor = cipher.encryptor()\n",
    "\n",
    "    # Pad the data to match AES block size (16 bytes)\n",
    "    pad_length = 16 - (len(image_bytes) % 16)\n",
    "    padded_data = image_bytes + bytes([pad_length] * pad_length)\n",
    "\n",
    "    # Encrypt the image\n",
    "    encrypted_data = encryptor.update(padded_data) + encryptor.finalize()\n",
    "\n",
    "    # Return the encrypted data and the original shape of the image\n",
    "    return encrypted_data, image.shape\n",
    "\n",
    "def decrypt_image_aes(encrypted_data, key, shape):\n",
    "    # Initialize the AES cipher for decryption\n",
    "    cipher = Cipher(algorithms.AES(key), modes.ECB(), backend=default_backend())\n",
    "    decryptor = cipher.decryptor()\n",
    "\n",
    "    # Decrypt the image\n",
    "    decrypted_data = decryptor.update(encrypted_data) + decryptor.finalize()\n",
    "\n",
    "    # Remove padding\n",
    "    pad_length = decrypted_data[-1]\n",
    "    decrypted_data = decrypted_data[:-pad_length]\n",
    "\n",
    "    return np.frombuffer(decrypted_data, dtype=np.uint8).reshape(shape)\n",
    "\n",
    "# Generate RSA key pair (public and private keys)\n",
    "private_key, public_key = generate_rsa_key_pair()\n",
    "\n",
    "# Encrypt and Save the AES Key using RSA\n",
    "# Generate a 256-bit (32 byte) random key for AES\n",
    "aes_key = os.urandom(32)\n",
    "aes_key_encrypted = public_key.encrypt(\n",
    "    aes_key,\n",
    "    padding.OAEP(\n",
    "        mgf=padding.MGF1(algorithm=hashes.SHA256()),\n",
    "        algorithm=hashes.SHA256(),\n",
    "        label=None\n",
    "    )\n",
    ")\n",
    "\n",
    "# Save encrypted AES key to a file\n",
    "with open('encrypted_aes_key.bin', 'wb') as f:\n",
    "    f.write(aes_key_encrypted)\n",
    "\n",
    "# Read the encrypted AES key and Decrypt it using RSA\n",
    "with open('encrypted_aes_key.bin', 'rb') as f:\n",
    "    aes_key_encrypted = f.read()\n",
    "\n",
    "aes_key_decrypted = private_key.decrypt(\n",
    "    aes_key_encrypted,\n",
    "    padding.OAEP(\n",
    "        mgf=padding.MGF1(algorithm=hashes.SHA256()),\n",
    "        algorithm=hashes.SHA256(),\n",
    "        label=None\n",
    "    )\n",
    ")\n",
    "\n",
    "# Encrypt and Save the Image using AES\n",
    "image_path = '/Users/rohithmekala/Desktop/lung.png'  # Replace with your image path\n",
    "encrypted_data, shape = encrypt_image_aes(image_path, aes_key_decrypted)\n",
    "\n",
    "# Save encrypted data to a file\n",
    "with open('encrypted_image_aes.bin', 'wb') as f:\n",
    "    f.write(encrypted_data)\n",
    "\n",
    "# Read the encrypted data and Decrypt the Image using AES\n",
    "with open('encrypted_image_aes.bin', 'rb') as f:\n",
    "    encrypted_data = f.read()\n",
    "\n",
    "decrypted_image = decrypt_image_aes(encrypted_data, aes_key_decrypted, shape)\n",
    "\n",
    "# Convert to an image and display/save\n",
    "cv2.imshow('AES Decrypted Image', decrypted_image)\n",
    "cv2.waitKey(0)\n",
    "cv2.destroyAllWindows()\n",
    "\n",
    "\n",
    "# It generates an RSA key pair, uses RSA to encrypt the symmetric key, and then uses AES to encrypt and decrypt the image data. It also displays the decrypted image. "
   ]
  },
  {
   "cell_type": "markdown",
   "id": "0f606f77",
   "metadata": {},
   "source": [
    "# Hybrid Encryption's encryption time"
   ]
  },
  {
   "cell_type": "code",
   "execution_count": 5,
   "id": "059a371f",
   "metadata": {},
   "outputs": [
    {
     "name": "stdout",
     "output_type": "stream",
     "text": [
      "Hybrid RSA encryption time: 0.01523280143737793\n"
     ]
    }
   ],
   "source": [
    "import time\n",
    "import cv2\n",
    "from Crypto.Cipher import PKCS1_OAEP, AES\n",
    "from Crypto.PublicKey import RSA\n",
    "from Crypto.Random import get_random_bytes\n",
    "import os\n",
    "\n",
    "# Function to read image and convert to byte data\n",
    "def get_image_data(image_path):\n",
    "    image = cv2.imread(image_path, cv2.IMREAD_UNCHANGED)\n",
    "    return image.tobytes()\n",
    "\n",
    "# Function to test encryption algorithm\n",
    "def test_encryption_algorithm(public_key, data):\n",
    "    cipher_rsa = PKCS1_OAEP.new(public_key)\n",
    "    \n",
    "    # Generate a random symmetric key for AES\n",
    "    symmetric_key = get_random_bytes(16)  # 128-bit key for AES\n",
    "    cipher_aes = AES.new(symmetric_key, AES.MODE_EAX)\n",
    "    \n",
    "    start_time = time.time()\n",
    "    \n",
    "    # Encrypt the symmetric key with RSA\n",
    "    encrypted_symmetric_key = cipher_rsa.encrypt(symmetric_key)\n",
    "    \n",
    "    # Encrypt the image data with AES\n",
    "    nonce = cipher_aes.nonce\n",
    "    ciphertext, tag = cipher_aes.encrypt_and_digest(data)\n",
    "    \n",
    "    end_time = time.time()\n",
    "    \n",
    "    return end_time - start_time\n",
    "\n",
    "# Load image data\n",
    "image_path = '/Users/rohithmekala/Desktop/lung.png'  # Replace with your image path\n",
    "image_data = get_image_data(image_path)\n",
    "\n",
    "# Generate an RSA key pair\n",
    "key = RSA.generate(2048)  # You can adjust the key size as needed\n",
    "public_key = key.publickey()\n",
    "\n",
    "# Testing RSA encryption with hybrid encryption using AES\n",
    "hybrid_time = test_encryption_algorithm(public_key, image_data)\n",
    "\n",
    "# Repeat for other algorithms like Salsa20, AES, etc., and compare the times\n",
    "# ...\n",
    "\n",
    "print(f\"Hybrid RSA encryption time: {hybrid_time}\")\n",
    "# Print times for other algorithms\n"
   ]
  },
  {
   "cell_type": "markdown",
   "id": "9f996424",
   "metadata": {},
   "source": [
    "# Hybrid Encryption's decryption time"
   ]
  },
  {
   "cell_type": "code",
   "execution_count": 6,
   "id": "25fd0f77",
   "metadata": {},
   "outputs": [
    {
     "name": "stdout",
     "output_type": "stream",
     "text": [
      "Hybrid RSA decryption time: 0.015989065170288086\n"
     ]
    }
   ],
   "source": [
    "import time\n",
    "import cv2\n",
    "from Crypto.Cipher import PKCS1_OAEP, AES\n",
    "from Crypto.PublicKey import RSA\n",
    "from Crypto.Random import get_random_bytes\n",
    "import os\n",
    "\n",
    "# Function to read image and convert to byte data\n",
    "def get_image_data(image_path):\n",
    "    image = cv2.imread(image_path, cv2.IMREAD_UNCHANGED)\n",
    "    return image.tobytes()\n",
    "\n",
    "# Function to test decryption algorithm\n",
    "def test_decryption_algorithm(private_key, encrypted_data):\n",
    "    cipher_rsa = PKCS1_OAEP.new(private_key)\n",
    "    \n",
    "    start_time = time.time()\n",
    "    \n",
    "    # Decrypt the symmetric key with RSA\n",
    "    symmetric_key = cipher_rsa.decrypt(encrypted_data[:private_key.size_in_bytes()])  # Adjust for key size\n",
    "    \n",
    "    # Decrypt the image data with AES\n",
    "    cipher_aes = AES.new(symmetric_key, AES.MODE_EAX, nonce=encrypted_data[private_key.size_in_bytes():private_key.size_in_bytes() + 16])\n",
    "    decrypted_data = cipher_aes.decrypt_and_verify(\n",
    "        encrypted_data[private_key.size_in_bytes() + 16:-16],  # Adjust for tag size\n",
    "        encrypted_data[-16:]\n",
    "    )\n",
    "    \n",
    "    end_time = time.time()\n",
    "    \n",
    "    return end_time - start_time\n",
    "\n",
    "# Load image data\n",
    "image_path = '/Users/rohithmekala/Desktop/lung.png'  # Replace with your image path\n",
    "image_data = get_image_data(image_path)\n",
    "\n",
    "# Generate an RSA key pair\n",
    "key = RSA.generate(2048)  # You can adjust the key size as needed\n",
    "public_key = key.publickey()\n",
    "private_key = key\n",
    "\n",
    "# Testing RSA encryption with hybrid encryption using AES\n",
    "cipher_rsa = PKCS1_OAEP.new(public_key)\n",
    "\n",
    "# Encrypt the symmetric key with RSA\n",
    "symmetric_key = get_random_bytes(16)  # 128-bit key for AES\n",
    "cipher_aes = AES.new(symmetric_key, AES.MODE_EAX)\n",
    "\n",
    "# Encrypt the symmetric key with RSA\n",
    "encrypted_symmetric_key = cipher_rsa.encrypt(symmetric_key)\n",
    "\n",
    "# Encrypt the image data with AES\n",
    "nonce = cipher_aes.nonce\n",
    "ciphertext, tag = cipher_aes.encrypt_and_digest(image_data)\n",
    "\n",
    "# Concatenate the encrypted symmetric key, nonce, ciphertext, and tag\n",
    "encrypted_data = encrypted_symmetric_key + nonce + ciphertext + tag\n",
    "\n",
    "# Testing RSA decryption\n",
    "hybrid_decrypt_time = test_decryption_algorithm(private_key, encrypted_data)\n",
    "\n",
    "# Repeat for other algorithms like Salsa20, AES, etc., and compare the times\n",
    "# ...\n",
    "\n",
    "print(f\"Hybrid RSA decryption time: {hybrid_decrypt_time}\")\n",
    "# Print times for other algorithms\n"
   ]
  },
  {
   "cell_type": "markdown",
   "id": "718f64ff",
   "metadata": {},
   "source": [
    "# 2. 3DES"
   ]
  },
  {
   "cell_type": "code",
   "execution_count": null,
   "id": "581d4d05",
   "metadata": {},
   "outputs": [],
   "source": [
    "from cryptography.hazmat.primitives.ciphers import Cipher, algorithms, modes\n",
    "from cryptography.hazmat.backends import default_backend\n",
    "from cryptography.hazmat.primitives import padding\n",
    "import cv2\n",
    "import numpy as np\n",
    "import os\n",
    "\n",
    "def encrypt_image_3des(image_path, key):\n",
    "    # Load the image\n",
    "    image = cv2.imread(image_path, cv2.IMREAD_UNCHANGED)\n",
    "    image_bytes = image.tobytes()\n",
    "\n",
    "    # Initialize the 3DES cipher\n",
    "    cipher = Cipher(algorithms.TripleDES(key), modes.ECB(), backend=default_backend())\n",
    "    encryptor = cipher.encryptor()\n",
    "    \n",
    "    # Pad the data to match 3DES block size (8 bytes)\n",
    "    padder = padding.PKCS7(64).padder()\n",
    "    padded_data = padder.update(image_bytes) + padder.finalize()\n",
    "\n",
    "    # Encrypt the image\n",
    "    encrypted_data = encryptor.update(padded_data) + encryptor.finalize()\n",
    "\n",
    "    # Return the encrypted data and the original shape of the image\n",
    "    return encrypted_data, image.shape\n",
    "\n",
    "def decrypt_image_3des(encrypted_data, key, shape):\n",
    "    # Initialize the 3DES cipher for decryption\n",
    "    cipher = Cipher(algorithms.TripleDES(key), modes.ECB(), backend=default_backend())\n",
    "    decryptor = cipher.decryptor()\n",
    "\n",
    "    # Decrypt the image\n",
    "    decrypted_data = decryptor.update(encrypted_data) + decryptor.finalize()\n",
    "\n",
    "    # Unpad the data\n",
    "    unpadder = padding.PKCS7(64).unpadder()\n",
    "    unpadded_data = unpadder.update(decrypted_data) + unpadder.finalize()\n",
    "\n",
    "    return np.frombuffer(unpadded_data, dtype=np.uint8).reshape(shape)\n",
    "\n",
    "# Generate a 192-bit (24 byte) random key for 3DES\n",
    "key = os.urandom(24)\n",
    "\n",
    "# Encrypt and Save the Image\n",
    "image_path = '/Users/rohithmekala/Desktop/lung.png'  # Replace with your image path\n",
    "encrypted_data, shape = encrypt_image_3des(image_path, key)\n",
    "\n",
    "# Save encrypted data to a file\n",
    "with open('encrypted_image_3des.bin', 'wb') as f:\n",
    "    f.write(encrypted_data)\n",
    "\n",
    "# Read the encrypted data and Decrypt the Image\n",
    "with open('encrypted_image_3des.bin', 'rb') as f:\n",
    "    encrypted_data = f.read()\n",
    "\n",
    "decrypted_image = decrypt_image_3des(encrypted_data, key, shape)\n",
    "\n",
    "# Convert to an image and display/save\n",
    "cv2.imshow('3DES Decrypted Image', decrypted_image)\n",
    "cv2.waitKey(0)\n",
    "cv2.destroyAllWindows()\n"
   ]
  },
  {
   "cell_type": "markdown",
   "id": "edb85320",
   "metadata": {},
   "source": [
    "# 3DES encryption time"
   ]
  },
  {
   "cell_type": "code",
   "execution_count": 7,
   "id": "dd845418",
   "metadata": {},
   "outputs": [
    {
     "name": "stdout",
     "output_type": "stream",
     "text": [
      "3DES encryption time: 0.15771985054016113\n"
     ]
    }
   ],
   "source": [
    "import time\n",
    "import cv2\n",
    "from Crypto.Cipher import PKCS1_OAEP, DES3\n",
    "from Crypto.PublicKey import RSA\n",
    "from Crypto.Random import get_random_bytes\n",
    "import os\n",
    "\n",
    "# Function to read image and convert to byte data\n",
    "def get_image_data(image_path):\n",
    "    image = cv2.imread(image_path, cv2.IMREAD_UNCHANGED)\n",
    "    return image.tobytes()\n",
    "\n",
    "# Function to test encryption algorithm\n",
    "def test_encryption_algorithm(public_key, data):\n",
    "    cipher_rsa = PKCS1_OAEP.new(public_key)\n",
    "    \n",
    "    # Generate a random symmetric key for 3DES\n",
    "    symmetric_key = get_random_bytes(24)  # 192-bit key for 3DES\n",
    "    cipher_des3 = DES3.new(symmetric_key, DES3.MODE_EAX)\n",
    "    \n",
    "    start_time = time.time()\n",
    "    \n",
    "    # Encrypt the symmetric key with RSA\n",
    "    encrypted_symmetric_key = cipher_rsa.encrypt(symmetric_key)\n",
    "    \n",
    "    # Encrypt the image data with 3DES\n",
    "    nonce = cipher_des3.nonce\n",
    "    ciphertext, tag = cipher_des3.encrypt_and_digest(data)\n",
    "    \n",
    "    end_time = time.time()\n",
    "    \n",
    "    return end_time - start_time\n",
    "\n",
    "# Load image data\n",
    "image_path = '/Users/rohithmekala/Desktop/lung.png'  # Replace with your image path\n",
    "image_data = get_image_data(image_path)\n",
    "\n",
    "# Generate an RSA key pair\n",
    "key = RSA.generate(2048)  # You can adjust the key size as needed\n",
    "public_key = key.publickey()\n",
    "\n",
    "# Testing RSA encryption with hybrid encryption using 3DES\n",
    "des3_time = test_encryption_algorithm(public_key, image_data)\n",
    "\n",
    "# Repeat for other algorithms like Salsa20, AES, etc., and compare the times\n",
    "# ...\n",
    "\n",
    "print(f\"3DES encryption time: {des3_time}\")\n",
    "# Print times for other algorithms\n"
   ]
  },
  {
   "cell_type": "markdown",
   "id": "ea71d5fa",
   "metadata": {},
   "source": [
    "# 3DES decryption time"
   ]
  },
  {
   "cell_type": "code",
   "execution_count": 8,
   "id": "3a782acc",
   "metadata": {},
   "outputs": [
    {
     "name": "stdout",
     "output_type": "stream",
     "text": [
      "3DES decryption time: 0.15653014183044434\n"
     ]
    }
   ],
   "source": [
    "import time\n",
    "import cv2\n",
    "from Crypto.Cipher import PKCS1_OAEP, DES3\n",
    "from Crypto.PublicKey import RSA\n",
    "from Crypto.Random import get_random_bytes\n",
    "import os\n",
    "\n",
    "# Function to read image and convert to byte data\n",
    "def get_image_data(image_path):\n",
    "    image = cv2.imread(image_path, cv2.IMREAD_UNCHANGED)\n",
    "    return image.tobytes()\n",
    "\n",
    "# Function to test decryption algorithm\n",
    "def test_decryption_algorithm(private_key, encrypted_data):\n",
    "    cipher_rsa = PKCS1_OAEP.new(private_key)\n",
    "    \n",
    "    # Decrypt the symmetric key with RSA\n",
    "    decrypted_symmetric_key = cipher_rsa.decrypt(encrypted_data['symmetric_key'])\n",
    "    \n",
    "    # Decrypt the image data with 3DES\n",
    "    cipher_des3 = DES3.new(decrypted_symmetric_key, DES3.MODE_EAX, nonce=encrypted_data['nonce'])\n",
    "    \n",
    "    start_time = time.time()\n",
    "    \n",
    "    decrypted_data = cipher_des3.decrypt_and_verify(encrypted_data['ciphertext'], encrypted_data['tag'])\n",
    "    \n",
    "    end_time = time.time()\n",
    "    \n",
    "    return end_time - start_time\n",
    "\n",
    "# Load image data\n",
    "image_path = '/Users/rohithmekala/Desktop/lung.png'  # Replace with your image path\n",
    "image_data = get_image_data(image_path)\n",
    "\n",
    "# Generate an RSA key pair\n",
    "key = RSA.generate(2048)  # You can adjust the key size as needed\n",
    "public_key = key.publickey()\n",
    "private_key = key\n",
    "\n",
    "# Encrypt the image data using 3DES\n",
    "symmetric_key = get_random_bytes(24)  # 192-bit key for 3DES\n",
    "cipher_des3 = DES3.new(symmetric_key, DES3.MODE_EAX)\n",
    "nonce = cipher_des3.nonce\n",
    "ciphertext, tag = cipher_des3.encrypt_and_digest(image_data)\n",
    "\n",
    "# Encrypt the symmetric key using RSA\n",
    "cipher_rsa = PKCS1_OAEP.new(public_key)\n",
    "encrypted_symmetric_key = cipher_rsa.encrypt(symmetric_key)\n",
    "\n",
    "# Store the encrypted data and parameters\n",
    "encrypted_data = {\n",
    "    'symmetric_key': encrypted_symmetric_key,\n",
    "    'nonce': nonce,\n",
    "    'ciphertext': ciphertext,\n",
    "    'tag': tag\n",
    "}\n",
    "\n",
    "# Testing RSA decryption with hybrid decryption using 3DES\n",
    "des3_decrypt_time = test_decryption_algorithm(private_key, encrypted_data)\n",
    "\n",
    "print(f\"3DES decryption time: {des3_decrypt_time}\")\n"
   ]
  },
  {
   "cell_type": "markdown",
   "id": "f0652369",
   "metadata": {},
   "source": [
    "# Analysis of Non Lightweight Cryptography Techniques"
   ]
  },
  {
   "cell_type": "markdown",
   "id": "493f63c7",
   "metadata": {},
   "source": [
    "# Comparison of Encryption Times"
   ]
  },
  {
   "cell_type": "code",
   "execution_count": 9,
   "id": "7b3a9e4e",
   "metadata": {},
   "outputs": [
    {
     "data": {
      "image/png": "[encoded data removed]",
      "text/plain": [
       "<Figure size 640x480 with 1 Axes>"
      ]
     },
     "metadata": {},
     "output_type": "display_data"
    }
   ],
   "source": [
    "import matplotlib.pyplot as plt\n",
    "\n",
    "# Define the values and labels\n",
    "values = [hybrid_time, des3_time]  # Replace these values with your data\n",
    "labels = ['hybrid', 'des3']\n",
    "\n",
    "# Create a bar graph\n",
    "plt.bar(labels, values, color=['red', 'green'])\n",
    "\n",
    "# Add labels and a title\n",
    "plt.xlabel('Values')\n",
    "plt.ylabel('Counts')\n",
    "plt.title('Comparison of Encryption Times of Non Lightweight Cryptography Techniques')\n",
    "\n",
    "# Display the graph\n",
    "plt.show()"
   ]
  },
  {
   "cell_type": "markdown",
   "id": "71c20370",
   "metadata": {},
   "source": [
    "# Comparison of Decryption Times"
   ]
  },
  {
   "cell_type": "code",
   "execution_count": 10,
   "id": "3712fe9a",
   "metadata": {},
   "outputs": [
    {
     "data": {
      "image/png": "[encoded data removed]",
      "text/plain": [
       "<Figure size 640x480 with 1 Axes>"
      ]
     },
     "metadata": {},
     "output_type": "display_data"
    }
   ],
   "source": [
    "import matplotlib.pyplot as plt\n",
    "\n",
    "# Define the values and labels\n",
    "values = [hybrid_decrypt_time, des3_decrypt_time]  # Replace these values with your data\n",
    "labels = ['hybrid', 'des3']\n",
    "\n",
    "# Create a bar graph\n",
    "plt.bar(labels, values, color=['red', 'green'])\n",
    "\n",
    "# Add labels and a title\n",
    "plt.xlabel('Values')\n",
    "plt.ylabel('Counts')\n",
    "plt.title('Comparison of Decryption Times of Non Lightweight Cryptography Techniques')\n",
    "\n",
    "# Display the graph\n",
    "plt.show()"
   ]
  },
  {
   "cell_type": "markdown",
   "id": "8e99baae",
   "metadata": {},
   "source": [
    "# Final Analysis"
   ]
  },
  {
   "cell_type": "markdown",
   "id": "285720dc",
   "metadata": {},
   "source": [
    "# Comparison of Decryption Times of Lightweight vs Non Lightweight Cryptography Techniques"
   ]
  },
  {
   "cell_type": "code",
   "execution_count": 15,
   "id": "a3e67a32",
   "metadata": {},
   "outputs": [
    {
     "data": {
      "image/png": "[encoded data removed]",
      "text/plain": [
       "<Figure size 640x480 with 1 Axes>"
      ]
     },
     "metadata": {},
     "output_type": "display_data"
    }
   ],
   "source": [
    "import matplotlib.pyplot as plt\n",
    "\n",
    "# Define the values and labels\n",
    "values = [chacha20_decryption_time, hybrid_decrypt_time]  # Replace these values with your data\n",
    "labels = ['chacha20', 'hybrid']\n",
    "\n",
    "# Create a bar graph\n",
    "plt.bar(labels, values, color=['red', 'green'])\n",
    "\n",
    "# Add labels and a title\n",
    "plt.xlabel('Values')\n",
    "plt.ylabel('Counts')\n",
    "plt.title('Comparison of Decryption Times of Lightweight vs Non Lightweight Cryptography Techniques')\n",
    "\n",
    "# Display the graph\n",
    "plt.show()\n"
   ]
  },
  {
   "cell_type": "code",
   "execution_count": null,
   "id": "0aa7b202",
   "metadata": {},
   "outputs": [],
   "source": []
  }
 ],
 "metadata": {
  "kernelspec": {
   "display_name": "Python 3 (ipykernel)",
   "language": "python",
   "name": "python3"
  },
  "language_info": {
   "codemirror_mode": {
    "name": "ipython",
    "version": 3
   },
   "file_extension": ".py",
   "mimetype": "text/x-python",
   "name": "python",
   "nbconvert_exporter": "python",
   "pygments_lexer": "ipython3",
   "version": "3.11.5"
  }
 },
 "nbformat": 4,
 "nbformat_minor": 5
}
